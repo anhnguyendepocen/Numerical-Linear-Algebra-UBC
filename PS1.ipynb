{
 "cells": [
  {
   "cell_type": "markdown",
   "metadata": {},
   "source": [
    "# MATH 307 Assignment 1 (Updated June 2)\n",
    "\n",
    "### Instructions\n",
    "\n",
    "* There are 4 problems and 20 total points.\n",
    "* Write your solutions in the cells below.\n",
    "* You may work on these problems with others but you must write your solutions on your own.\n",
    "* Execute the test cells to verify that your solutions pass.\n",
    "* **Grading includes hidden tests!** Your solution may not be completely correct even if it passes all tests below.\n",
    "* Make sure your notebook executes correctly in order from top to bottom.\n",
    "* Submit this notebook to Canvas"
   ]
  },
  {
   "cell_type": "code",
   "execution_count": 1,
   "metadata": {},
   "outputs": [],
   "source": [
    "import numpy as np\n",
    "import scipy.linalg as la\n",
    "import matplotlib.pyplot as plt\n",
    "from matplotlib import animation"
   ]
  },
  {
   "cell_type": "markdown",
   "metadata": {},
   "source": [
    "## Exercise 1: Creating matrices with NumPy functions\n",
    "\n",
    "Use a combination of the NumPy functions `numpy.eye`, `numpy.diag`, `numpy.ones` and `numpy.repeat` to create the $N \\times N$ matrix\n",
    "\n",
    "$$\n",
    "B = \n",
    "\\left[\n",
    "\\begin{array}{ccccc}\n",
    "1 + 2p & -p & & & \\\\\n",
    "-p & 1 + 2p & -p & & \\\\\n",
    "& & \\ddots & & \\\\\n",
    "& & -p & 1 + 2p & -p \\\\\n",
    "& & & -p & 1 + 2p \\\\\n",
    "\\end{array}\n",
    "\\right]\n",
    "$$\n",
    "\n",
    "for $p=1/5$ and $N = 100$."
   ]
  },
  {
   "cell_type": "code",
   "execution_count": 2,
   "metadata": {
    "deletable": false,
    "nbgrader": {
     "cell_type": "code",
     "checksum": "184255b9d8ba5f8ad94bf316f16ac4f7",
     "grade": false,
     "grade_id": "B_matrix",
     "locked": false,
     "schema_version": 3,
     "solution": true,
     "task": false
    }
   },
   "outputs": [
    {
     "name": "stdout",
     "output_type": "stream",
     "text": [
      "(100,)\n",
      "(99,)\n",
      "(100, 100)\n",
      "<class 'numpy.ndarray'>\n"
     ]
    }
   ],
   "source": [
    "# YOUR CODE HERE\n",
    "# YOUR CODE HERE\n",
    "p = 1/5 \n",
    "N = 100\n",
    "t = np.ones(N)\n",
    "t1 = np.ones(N)\n",
    "a = 2*p + t\n",
    "b = (-p) *t1\n",
    "\n",
    "\n",
    "print(a[0:N].shape)\n",
    "print(b[1:N].shape)\n",
    "B = np.diag(a[0:N]) + np.diag(b[1:N],1) + np.diag(b[1:N],-1)\n",
    "print(B.shape)\n",
    "print(type(B))\n",
    "\n"
   ]
  },
  {
   "cell_type": "code",
   "execution_count": 3,
   "metadata": {
    "deletable": false,
    "editable": false,
    "nbgrader": {
     "cell_type": "code",
     "checksum": "7ec5172ec9f4fabe4baab49f13518b57",
     "grade": true,
     "grade_id": "B_type",
     "locked": true,
     "points": 1,
     "schema_version": 3,
     "solution": false,
     "task": false
    }
   },
   "outputs": [
    {
     "name": "stdout",
     "output_type": "stream",
     "text": [
      "Exercises 1 Test 1: Success!\n"
     ]
    }
   ],
   "source": [
    "# Verify B is a NumPy array\n",
    "assert isinstance(B,np.ndarray)\n",
    "print(\"Exercises 1 Test 1: Success!\")"
   ]
  },
  {
   "cell_type": "code",
   "execution_count": 4,
   "metadata": {
    "deletable": false,
    "editable": false,
    "nbgrader": {
     "cell_type": "code",
     "checksum": "39238c51b1351595e1ad7fbfd604da26",
     "grade": true,
     "grade_id": "B_size",
     "locked": true,
     "points": 1,
     "schema_version": 3,
     "solution": false,
     "task": false
    }
   },
   "outputs": [
    {
     "name": "stdout",
     "output_type": "stream",
     "text": [
      "Exercises 1 Test 2: Success!\n"
     ]
    }
   ],
   "source": [
    "# Verify B has the correct size\n",
    "assert B.shape == (100,100)\n",
    "print(\"Exercises 1 Test 2: Success!\")"
   ]
  },
  {
   "cell_type": "code",
   "execution_count": 5,
   "metadata": {
    "deletable": false,
    "editable": false,
    "nbgrader": {
     "cell_type": "code",
     "checksum": "088e82e9a88f18a5cc01d4316d110d2f",
     "grade": true,
     "grade_id": "B_values",
     "locked": true,
     "points": 2,
     "schema_version": 3,
     "solution": false,
     "task": false
    }
   },
   "outputs": [
    {
     "name": "stdout",
     "output_type": "stream",
     "text": [
      "Exercises 1 Test 3: Success!\n"
     ]
    }
   ],
   "source": [
    "# Verify B has correct values\n",
    "assert np.allclose(B[:3,:3],np.array([[1+2/5,-1/5,0],[-1/5,1+2/5,-1/5],[0,-1/5,1+2/5]]))\n",
    "print(\"Exercises 1 Test 3: Success!\")"
   ]
  },
  {
   "cell_type": "markdown",
   "metadata": {},
   "source": [
    "## Exercise 2: Positive definite matrices\n",
    "\n",
    "Use your code from the previous question and the code below to plot the eigenvalues of $B$ for different values $p$ and $N$.\n",
    "\n",
    "```\n",
    "evals,evecs = la.eig(B)\n",
    "plt.plot(np.sort(evals.real),'b.')\n",
    "```\n",
    "\n",
    "Based on your observation, determine if the following statement is `True` or `False`:\n",
    "\n",
    "> The matrix $B$ is positive definite for any postive value $p>0$ and integer $N$.\n",
    "\n",
    "Assign `True` or `False` to the variable `posdef` in the cell below."
   ]
  },
  {
   "cell_type": "code",
   "execution_count": 6,
   "metadata": {
    "deletable": false,
    "nbgrader": {
     "cell_type": "code",
     "checksum": "32656a3b9817ad076ffb87f215f17551",
     "grade": false,
     "grade_id": "posdef",
     "locked": false,
     "schema_version": 3,
     "solution": true,
     "task": false
    }
   },
   "outputs": [
    {
     "data": {
      "text/plain": [
       "[<matplotlib.lines.Line2D at 0x7f246d2a2f50>]"
      ]
     },
     "execution_count": 6,
     "metadata": {},
     "output_type": "execute_result"
    },
    {
     "data": {
      "image/png": "[encoded data removed]",
      "text/plain": [
       "<Figure size 432x288 with 1 Axes>"
      ]
     },
     "metadata": {
      "needs_background": "light"
     },
     "output_type": "display_data"
    }
   ],
   "source": [
    "# YOUR CODE HERE\n",
    "evals,evecs = la.eig(B)\n",
    "plt.plot(np.sort(evals.real),'b.')"
   ]
  },
  {
   "cell_type": "code",
   "execution_count": 7,
   "metadata": {
    "scrolled": true
   },
   "outputs": [
    {
     "data": {
      "text/plain": [
       "[<matplotlib.lines.Line2D at 0x7f246d171650>]"
      ]
     },
     "execution_count": 7,
     "metadata": {},
     "output_type": "execute_result"
    },
    {
     "data": {
      "image/png": "[encoded data removed]",
      "text/plain": [
       "<Figure size 432x288 with 1 Axes>"
      ]
     },
     "metadata": {
      "needs_background": "light"
     },
     "output_type": "display_data"
    }
   ],
   "source": [
    "p = 100 \n",
    "N = 10\n",
    "t = np.ones(N)\n",
    "t1 = np.ones(N)\n",
    "a = 2*p + t\n",
    "b = (-p) *t1\n",
    "B1 = np.diag(a[0:N]) + np.diag(b[1:N],1) + np.diag(b[1:N],-1)\n",
    "evals,evecs = la.eig(B1)\n",
    "plt.plot(np.sort(evals.real),'b.')"
   ]
  },
  {
   "cell_type": "code",
   "execution_count": 8,
   "metadata": {
    "scrolled": true
   },
   "outputs": [
    {
     "data": {
      "text/plain": [
       "[<matplotlib.lines.Line2D at 0x7f246d0eb550>]"
      ]
     },
     "execution_count": 8,
     "metadata": {},
     "output_type": "execute_result"
    },
    {
     "data": {
      "image/png": "[encoded data removed]",
      "text/plain": [
       "<Figure size 432x288 with 1 Axes>"
      ]
     },
     "metadata": {
      "needs_background": "light"
     },
     "output_type": "display_data"
    }
   ],
   "source": [
    "p = 0.01\n",
    "N = 50\n",
    "t = np.ones(N)\n",
    "t1 = np.ones(N)\n",
    "a = 2*p + t\n",
    "b = (-p) *t1\n",
    "B2 = np.diag(a[0:N]) + np.diag(b[1:N],1) + np.diag(b[1:N],-1)\n",
    "evals,evecs = la.eig(B2)\n",
    "plt.plot(np.sort(evals.real),'b.')\n",
    "\n"
   ]
  },
  {
   "cell_type": "code",
   "execution_count": 9,
   "metadata": {},
   "outputs": [],
   "source": [
    "# A practical way to check\n",
    "# A is positive-definite if all the diagonal entries are positive, \n",
    "#and each diagonal entry is greater than the sum of the absolute values of all other entries \n",
    "# in the corresponding row/column.\n",
    "posdef = True"
   ]
  },
  {
   "cell_type": "code",
   "execution_count": 10,
   "metadata": {
    "deletable": false,
    "editable": false,
    "nbgrader": {
     "cell_type": "code",
     "checksum": "fb15aafa20fbd8a1468e36e9ace34041",
     "grade": true,
     "grade_id": "posdef_value",
     "locked": true,
     "points": 2,
     "schema_version": 3,
     "solution": false,
     "task": false
    }
   },
   "outputs": [
    {
     "name": "stdout",
     "output_type": "stream",
     "text": [
      "Exercises 2 Test 1: Success!\n"
     ]
    }
   ],
   "source": [
    "# Verify posdef is defined as True or False\n",
    "assert isinstance(posdef,bool)\n",
    "print(\"Exercises 2 Test 1: Success!\")"
   ]
  },
  {
   "cell_type": "markdown",
   "metadata": {},
   "source": [
    "## Exercise 3: Finite difference method for the heat equation\n",
    "\n",
    "Consider the heat equation with homogeneous boundary conditions\n",
    "\n",
    "$$\n",
    "u_t = \\alpha u_{xx} \\ , \\ \\ u(0,t) = u(1,t) = 0 \\ , \\ \\ u(x,0) = F(x)\n",
    "$$\n",
    "\n",
    "where $F(x)$ is the initial temperature distribution. The solution $u(x,t)$ is the temperature at position $x$ and time $t$ in a uniform rod of length $1$. The Crank-Nicolson method is a stable finite difference method for the heat equation. In matrix notation, the Crank-Nicolson method is\n",
    "\n",
    "$$\n",
    "B \\mathbf{u}_{j+1} = A \\mathbf{u}_j\n",
    "$$\n",
    "\n",
    "where $A$ and $B$ are $N \\times N$ matrices\n",
    "\n",
    "$$\n",
    "B = \n",
    "\\left[\n",
    "\\begin{array}{ccccc}\n",
    "1 + 2p & -p & & & \\\\\n",
    "-p & 1 + 2p & -p & & \\\\\n",
    "& & \\ddots & & \\\\\n",
    "& & -p & 1 + 2p & -p \\\\\n",
    "& & & -p & 1 + 2p \\\\\n",
    "\\end{array}\n",
    "\\right]\n",
    "\\hspace{10mm}\n",
    "A = \n",
    "\\left[\n",
    "\\begin{array}{ccccc}\n",
    "1 - 2p & p & & & \\\\\n",
    "p & 1 - 2p & p & & \\\\\n",
    "& & \\ddots & & \\\\\n",
    "& & p & 1 - 2p & p \\\\\n",
    "& & & p & 1 - 2p \\\\\n",
    "\\end{array}\n",
    "\\right]\n",
    "\\hspace{10mm}\n",
    "\\mathbf{u}_j = \\begin{bmatrix} u_{1,j} \\\\ u_{2,j} \\\\ \\vdots \\\\ u_{N,j} \\end{bmatrix}\n",
    "$$\n",
    "\n",
    "\n",
    "$$\n",
    "p = \\frac{\\alpha k}{2 h^2}\n",
    "\\hspace{10mm}\n",
    "h = \\frac{1}{N+1}\n",
    "\\hspace{10mm}\n",
    "k = \\frac{t_f}{M}\n",
    "$$\n",
    "\n",
    "We don't need to know all the details of the Crank-Nicholson method for this exercise. The idea is that each vector $\\mathbf{u}_j$ represents the temperature distribution at time $t_j = j k$ (that is after $j$ time steps $k$). The goal is to compute the solution $\\mathbf{u}_{j+1}$ of the system $B \\mathbf{u}_{j+1} = A \\mathbf{u}_j$ for each $j=1,\\dots,M$. Since we are solving a system with the same coefficient matrix $B$ over and over again, we should use the Cholesky factorization to avoid unecessary computations.\n",
    "\n",
    "Copy and paste the following code into the next cell and  modify it following the steps below.\n",
    "\n",
    "```\n",
    "alpha = 0.02; tf = 10;\n",
    "N = 100; M = 200;\n",
    "h = 1/(N + 1); k = tf/M;\n",
    "p = alpha*k/(2*h**2)\n",
    "\n",
    "A = # STEP 1: Define matrix A\n",
    "B = # STEP 2: Define matrix B\n",
    "U = np.zeros([N+2,M+1])\n",
    "x = np.linspace(0,1,N+2)\n",
    "U[:,0] = 1 - np.cos(4*np.pi*x)\n",
    "L = # STEP 3: Compute Cholesky decomposition of B\n",
    "for j in range(0,M):\n",
    "    uj = U[1:N+1,j]\n",
    "    y = # STEP 4: Solve Ly = A@uj\n",
    "    z = # STEP 5: Solve L.T z = y\n",
    "    U[1:N+1,j+1] = z\n",
    "```\n",
    "\n",
    "1. Modify your code from Exercise 1 to create matrix A.\n",
    "2. Modify your code from Exercise 1 to create matrix B.\n",
    "3. Use the function `scipy.linalg.cholesky` to compute the Cholesky factorization $B = LL^T$ (see [documentation](https://docs.scipy.org/doc/scipy/reference/generated/scipy.linalg.cholesky.html))\n",
    "4. Use the function `scipy.linalg.solve_triangular` to solve the lower triangular system $Ly = A\\mathbf{u}_j$ (see [documentation](https://docs.scipy.org/doc/scipy/reference/generated/scipy.linalg.solve_triangular.html)).\n",
    "5. Use the function `scipy.linalg.solve_triangular` to solve the upper triangular system $L^Tz = y$ (see [documentation](https://docs.scipy.org/doc/scipy/reference/generated/scipy.linalg.solve_triangular.html)).\n",
    "\n",
    "The result is the solution of the heat equation with initial distribution $F(x) = 1 - \\cos(4\\pi x)$. Run the cells below to animate your result."
   ]
  },
  {
   "cell_type": "code",
   "execution_count": 11,
   "metadata": {
    "deletable": false,
    "nbgrader": {
     "cell_type": "code",
     "checksum": "7a6cd70644083ac758bbb906e415c1cd",
     "grade": false,
     "grade_id": "heat_fd",
     "locked": false,
     "schema_version": 3,
     "solution": true,
     "task": false
    }
   },
   "outputs": [
    {
     "name": "stdout",
     "output_type": "stream",
     "text": [
      "<class 'numpy.ndarray'>\n",
      "<class 'numpy.ndarray'>\n",
      "(100, 100)\n",
      "(100, 100)\n"
     ]
    }
   ],
   "source": [
    "# YOUR CODE HERE\n",
    "\n",
    "\n",
    "alpha = 0.02; tf = 10;\n",
    "N = 100; M = 200; # 100 200\n",
    "h = 1/(N + 1); k = tf/M;\n",
    "p = alpha*k/(2*h**2)\n",
    "\n",
    "t = np.ones(N+2)\n",
    "a = t - 2*p\n",
    "b = t + 2*p\n",
    "c = p*t\n",
    "d = -p*t\n",
    "\n",
    "A = np.diag(a[1:N+1]) + np.diag(c[1:N],1) + np.diag(c[2:N+1],-1)# STEP 1: Define matrix A\n",
    "B = np.diag(b[1:N+1]) + np.diag(d[1:N],1) + np.diag(d[2:N+1],-1)# STEP 2: Define matrix B\n",
    "U = np.zeros([N+2,M+1])\n",
    "x = np.linspace(0,1,N+2)\n",
    "U[:,0] = 1 - np.cos(4*np.pi*x)\n",
    "L = la.cholesky(B,lower=True)# STEP 3: Compute Cholesky decomposition of B\n",
    "for j in range(0,M):\n",
    "    uj = U[1:N+1,j]\n",
    "    y = la.solve_triangular(L, A@uj, lower=True)   # STEP 4: Solve Ly = A@uj #LOOK at the documentation\n",
    "    z = la.solve_triangular(L.T, y, lower=False)# STEP 5: Solve L.T z = y   #L.T is upper\n",
    "    U[1:N+1,j+1] = z\n",
    "    \n",
    "\n",
    "\n",
    "print(type(A))\n",
    "print(type(B))\n",
    "print(A.shape)\n",
    "print(B.shape)\n",
    "\n",
    "\n"
   ]
  },
  {
   "cell_type": "code",
   "execution_count": 12,
   "metadata": {},
   "outputs": [],
   "source": [
    "fig = plt.figure()\n",
    "ax = plt.axes(xlim=(0, 1), ylim=(np.min(U), np.max(U)))\n",
    "line, = ax.plot([], [], lw=2)\n",
    "\n",
    "def init():\n",
    "    line.set_data([], [])\n",
    "    return line,\n",
    "\n",
    "def animate(i):\n",
    "    line.set_data(x, U[:,i])\n",
    "    return line,\n",
    "\n",
    "anim = animation.FuncAnimation(fig, animate, init_func=init, frames=M+1)\n",
    "anim.save('heat.mp4',fps=M/tf)\n",
    "plt.close()"
   ]
  },
  {
   "cell_type": "code",
   "execution_count": 13,
   "metadata": {},
   "outputs": [
    {
     "data": {
      "text/html": [
       "<video src=\"heat.mp4\" controls  >\n",
       "      Your browser does not support the <code>video</code> element.\n",
       "    </video>"
      ],
      "text/plain": [
       "<IPython.core.display.Video object>"
      ]
     },
     "execution_count": 13,
     "metadata": {},
     "output_type": "execute_result"
    }
   ],
   "source": [
    "from IPython.display import Video\n",
    "Video(\"heat.mp4\")"
   ]
  },
  {
   "cell_type": "code",
   "execution_count": 14,
   "metadata": {
    "deletable": false,
    "editable": false,
    "nbgrader": {
     "cell_type": "code",
     "checksum": "0ee6d1947efb9d55205285597babae75",
     "grade": true,
     "grade_id": "A_type",
     "locked": true,
     "points": 1,
     "schema_version": 3,
     "solution": false,
     "task": false
    }
   },
   "outputs": [
    {
     "name": "stdout",
     "output_type": "stream",
     "text": [
      "Exercises 3 Test 1: Success!\n"
     ]
    }
   ],
   "source": [
    "# Check A is defined and has the correct shape\n",
    "assert isinstance(A,np.ndarray)\n",
    "assert A.shape == (100,100)\n",
    "print(\"Exercises 3 Test 1: Success!\")"
   ]
  },
  {
   "cell_type": "code",
   "execution_count": 15,
   "metadata": {
    "deletable": false,
    "editable": false,
    "nbgrader": {
     "cell_type": "code",
     "checksum": "7c948181c3f7b209c1918ae98ed0f25b",
     "grade": true,
     "grade_id": "A_values",
     "locked": true,
     "points": 1,
     "schema_version": 3,
     "solution": false,
     "task": false
    }
   },
   "outputs": [
    {
     "name": "stdout",
     "output_type": "stream",
     "text": [
      "Exercises 3 Test 2: Success!\n"
     ]
    }
   ],
   "source": [
    "# Check A has the correct values\n",
    "assert np.allclose(A[:3,:3],np.array([[1-2*p,p,0],[p,1-2*p,p],[0,p,1-2*p]]))\n",
    "print(\"Exercises 3 Test 2: Success!\")"
   ]
  },
  {
   "cell_type": "code",
   "execution_count": 16,
   "metadata": {
    "deletable": false,
    "editable": false,
    "nbgrader": {
     "cell_type": "code",
     "checksum": "e4973cd404c69bf77d3a5c0065ba2633",
     "grade": true,
     "grade_id": "B_values2",
     "locked": true,
     "points": 1,
     "schema_version": 3,
     "solution": false,
     "task": false
    }
   },
   "outputs": [
    {
     "name": "stdout",
     "output_type": "stream",
     "text": [
      "Exercises 3 Test 3: Success!\n"
     ]
    }
   ],
   "source": [
    "# Check B has the correct values\n",
    "assert np.allclose(B[:3,:3],np.array([[1+2*p,-p,0],[-p,1+2*p,-p],[0,-p,1+2*p]]))\n",
    "print(\"Exercises 3 Test 3: Success!\")"
   ]
  },
  {
   "cell_type": "code",
   "execution_count": 17,
   "metadata": {
    "deletable": false,
    "editable": false,
    "nbgrader": {
     "cell_type": "code",
     "checksum": "f437bc4c6c19eabce437b11dbf89a149",
     "grade": true,
     "grade_id": "L_values1",
     "locked": true,
     "points": 1,
     "schema_version": 3,
     "solution": false,
     "task": false
    }
   },
   "outputs": [
    {
     "name": "stdout",
     "output_type": "stream",
     "text": [
      "Exercises 3 Test 4: Success!\n"
     ]
    }
   ],
   "source": [
    "# Verify the Cholesky factor L\n",
    "assert np.allclose(L@L.T,B)\n",
    "print(\"Exercises 3 Test 4: Success!\")"
   ]
  },
  {
   "cell_type": "code",
   "execution_count": 18,
   "metadata": {},
   "outputs": [
    {
     "data": {
      "text/plain": [
       "0.11893355541023438"
      ]
     },
     "execution_count": 18,
     "metadata": {},
     "output_type": "execute_result"
    }
   ],
   "source": [
    "U[:,-1].mean()"
   ]
  },
  {
   "cell_type": "code",
   "execution_count": 19,
   "metadata": {
    "deletable": false,
    "editable": false,
    "nbgrader": {
     "cell_type": "code",
     "checksum": "b1de723dd095fb117044db4dbd615b5a",
     "grade": true,
     "grade_id": "U_mean",
     "locked": true,
     "points": 2,
     "schema_version": 3,
     "solution": false,
     "task": false
    }
   },
   "outputs": [
    {
     "name": "stdout",
     "output_type": "stream",
     "text": [
      "Exercises 3 Test 5: Success!\n"
     ]
    }
   ],
   "source": [
    "# Verify the average temperature at the last time step\n",
    "assert np.allclose(U[:,-1].mean(), 0.11893355541023455)\n",
    "print(\"Exercises 3 Test 5: Success!\")"
   ]
  },
  {
   "cell_type": "markdown",
   "metadata": {},
   "source": [
    "## Exercise 4: Condition number of Vandermonde matrices\n",
    "\n",
    "Let $t_k = k/N$, $k=0,\\dots,N$, be $N+1$ equally spaced points from $t_0 = 0$ to $t_N = 1$ and let $A_N$ be the corresponding Vandermonde matrix. We have seen that the solution of the system $A_N \\mathbf{c} = \\mathbf{y}$ (for some vector $\\mathbf{y}$ of $y$ values) is the vector $\\mathbf{c}$ of coefficients for the unique interpolating polynomial of degree $N$. We have also seen that Vandermonde matrices are badly ill-conditioned. The purpose of this exercises it to determine how badly ill-conditioned.\n",
    "\n",
    "The following code computes the condition number $C_N = \\mathrm{cond}(A_N)$ for $A_N$ for $N=1,\\dots,10$ and plots $N$ versus $\\log_{10}(C_N)$."
   ]
  },
  {
   "cell_type": "code",
   "execution_count": 20,
   "metadata": {
    "deletable": false,
    "editable": false,
    "nbgrader": {
     "cell_type": "code",
     "checksum": "338ce81c9e411c9a83c32515b35e7f4a",
     "grade": false,
     "grade_id": "condition",
     "locked": true,
     "schema_version": 3,
     "solution": false,
     "task": false
    }
   },
   "outputs": [
    {
     "data": {
      "image/png": "[encoded data removed]",
      "text/plain": [
       "<Figure size 432x288 with 1 Axes>"
      ]
     },
     "metadata": {
      "needs_background": "light"
     },
     "output_type": "display_data"
    }
   ],
   "source": [
    "Cs = []\n",
    "Nmax = 10\n",
    "Ns = np.arange(1,Nmax+1)\n",
    "for N in Ns:\n",
    "    t = np.linspace(0,1,N+1)\n",
    "    A_N = np.vander(t)\n",
    "    cond_A_N = np.linalg.cond(A_N)\n",
    "    Cs.append(cond_A_N)\n",
    "plt.plot(Ns,np.log10(Cs),'b.-')\n",
    "plt.grid(True), plt.title('Condition Number of Vandermonde matrix'), plt.xlabel('N'), plt.ylabel('$\\ln(C_N)$')\n",
    "plt.show()"
   ]
  },
  {
   "cell_type": "markdown",
   "metadata": {},
   "source": [
    "(a) Setup and solve the normal equations for the coefficients $c_0$ and $c_1$ in the logarithmic model\n",
    "\n",
    "$$\n",
    "\\log_{10}(C_N) = c_0 + c_1 N\n",
    "$$\n",
    "\n",
    "You should be able to copy, paste and modify the code from our [MATH 307 notebook on data fitting](https://github.com/patrickwalls/math307/blob/master/06_least_squares_regression.ipynb). Save the coefficients as variables `c0` and `c1`."
   ]
  },
  {
   "cell_type": "code",
   "execution_count": 21,
   "metadata": {
    "deletable": false,
    "nbgrader": {
     "cell_type": "code",
     "checksum": "91f56d31cc1ea1a4a165b576546a52b9",
     "grade": false,
     "grade_id": "c_value",
     "locked": false,
     "schema_version": 3,
     "solution": true,
     "task": false
    }
   },
   "outputs": [
    {
     "name": "stdout",
     "output_type": "stream",
     "text": [
      "c0 is -0.534701019706969, c1 is 0.8545530042205068\n"
     ]
    }
   ],
   "source": [
    "# YOUR CODE HERE\n",
    "A = np.column_stack([np.ones(len(Ns)),Ns])\n",
    "c = la.solve(A.T @ A, A.T @ np.log10(Cs))\n",
    "c0 = c[0]\n",
    "c1 = c[1]\n",
    "print(f'c0 is {c0}, c1 is {c1}')\n",
    "\n"
   ]
  },
  {
   "cell_type": "code",
   "execution_count": 22,
   "metadata": {
    "deletable": false,
    "editable": false,
    "nbgrader": {
     "cell_type": "code",
     "checksum": "a2a30b91f01a3c1511859d81de16e7c4",
     "grade": true,
     "grade_id": "c_type",
     "locked": true,
     "points": 2,
     "schema_version": 3,
     "solution": false,
     "task": false
    }
   },
   "outputs": [
    {
     "name": "stdout",
     "output_type": "stream",
     "text": [
      "Exercises 4 Test 1: Success!\n"
     ]
    }
   ],
   "source": [
    "# Check if c0 and c1 are defined\n",
    "assert isinstance(c0,np.float64)\n",
    "assert isinstance(c1,np.float64)\n",
    "print(\"Exercises 4 Test 1: Success!\")"
   ]
  },
  {
   "cell_type": "code",
   "execution_count": 23,
   "metadata": {
    "deletable": false,
    "editable": false,
    "nbgrader": {
     "cell_type": "code",
     "checksum": "ea75332c4b6273ae6b7106c9f7d07ab7",
     "grade": true,
     "grade_id": "c0_value",
     "locked": true,
     "points": 2,
     "schema_version": 3,
     "solution": false,
     "task": false
    }
   },
   "outputs": [
    {
     "name": "stdout",
     "output_type": "stream",
     "text": [
      "Exercises 4 Test 2: Success!\n"
     ]
    }
   ],
   "source": [
    "# Check if c0 has the correct value (this cell contains a hidden test)\n",
    "assert isinstance(c0,np.float64)\n",
    "print(\"Exercises 4 Test 2: Success!\")"
   ]
  },
  {
   "cell_type": "code",
   "execution_count": 24,
   "metadata": {
    "deletable": false,
    "editable": false,
    "nbgrader": {
     "cell_type": "code",
     "checksum": "b9b3fc759e757c24f072c5b4e95c06b3",
     "grade": true,
     "grade_id": "c1_value",
     "locked": true,
     "points": 2,
     "schema_version": 3,
     "solution": false,
     "task": false
    }
   },
   "outputs": [
    {
     "name": "stdout",
     "output_type": "stream",
     "text": [
      "Exercises 4 Test 3: Success!\n"
     ]
    }
   ],
   "source": [
    "# Check if c1 has the correct value (this cell contains a hidden test)\n",
    "assert isinstance(c1,np.float64)\n",
    "print(\"Exercises 4 Test 3: Success!\")"
   ]
  },
  {
   "cell_type": "markdown",
   "metadata": {},
   "source": [
    "(b) If we construct the Vandermonde matrix $A_N$ for $N = 20$, use the model compute above to estimate the exponent $k$ in the condition number $\\mathrm{cond}(A_N) = 10^k$. Assign the value to the variable `k` in the next cell."
   ]
  },
  {
   "cell_type": "code",
   "execution_count": 25,
   "metadata": {
    "deletable": false,
    "nbgrader": {
     "cell_type": "code",
     "checksum": "1204756af778c60d0bbaa0ab6947f9f7",
     "grade": false,
     "grade_id": "k_value",
     "locked": false,
     "schema_version": 3,
     "solution": true,
     "task": false
    }
   },
   "outputs": [
    {
     "name": "stdout",
     "output_type": "stream",
     "text": [
      "16.9321497712377\n"
     ]
    }
   ],
   "source": [
    "# YOUR CODE HERE\n",
    "Nmax = 20\n",
    "Ns = Nmax\n",
    "t = np.linspace(0,1,Ns+1)\n",
    "A_N_20 = np.vander(t)\n",
    "cond_A_N_20 = np.linalg.cond(A_N_20)\n",
    "k = np.log10(cond_A_N_20)\n",
    "print(k)\n",
    "\n"
   ]
  },
  {
   "cell_type": "code",
   "execution_count": 26,
   "metadata": {
    "deletable": false,
    "editable": false,
    "nbgrader": {
     "cell_type": "code",
     "checksum": "6e4ca3367dd9aff47f3402348fdc2f2d",
     "grade": true,
     "grade_id": "k_value_test",
     "locked": true,
     "points": 2,
     "schema_version": 3,
     "solution": false,
     "task": false
    }
   },
   "outputs": [
    {
     "name": "stdout",
     "output_type": "stream",
     "text": [
      "Exercises 4 Test 4: Success!\n"
     ]
    }
   ],
   "source": [
    "# Check k has the correct value (this cell contains a hidden test)\n",
    "assert isinstance(k,np.float64)\n",
    "print(\"Exercises 4 Test 4: Success!\")"
   ]
  },
  {
   "cell_type": "code",
   "execution_count": null,
   "metadata": {},
   "outputs": [],
   "source": []
  }
 ],
 "metadata": {
  "kernelspec": {
   "display_name": "Python 3",
   "language": "python",
   "name": "python3"
  },
  "language_info": {
   "codemirror_mode": {
    "name": "ipython",
    "version": 3
   },
   "file_extension": ".py",
   "mimetype": "text/x-python",
   "name": "python",
   "nbconvert_exporter": "python",
   "pygments_lexer": "ipython3",
   "version": "3.7.6"
  }
 },
 "nbformat": 4,
 "nbformat_minor": 4
}
